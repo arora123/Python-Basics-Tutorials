{
  "nbformat": 4,
  "nbformat_minor": 0,
  "metadata": {
    "colab": {
      "name": "For Loop in Python",
      "provenance": [],
      "collapsed_sections": [],
      "include_colab_link": true
    },
    "kernelspec": {
      "display_name": "Python 3",
      "name": "python3"
    }
  },
  "cells": [
    {
      "cell_type": "markdown",
      "metadata": {
        "id": "view-in-github",
        "colab_type": "text"
      },
      "source": [
        "<a href=\"https://colab.research.google.com/github/arora123/Python-Basics-Tutorials/blob/main/For_Loop_in_Python.ipynb\" target=\"_parent\"><img src=\"https://colab.research.google.com/assets/colab-badge.svg\" alt=\"Open In Colab\"/></a>"
      ]
    },
    {
      "cell_type": "markdown",
      "metadata": {
        "id": "TZsXznmUjY65"
      },
      "source": [
        "#Control Structure _ for loop\r\n",
        "\r\n",
        "- for loop through a range of numbers\r\n",
        "- for loop over a sequence in reverse\r\n",
        "- for loop through a string\r\n",
        "- for loop through a list\r\n",
        "- for loop over a sequence in sorted order\r\n",
        "- for loop over unique elements of the sequence in sorted order\r\n",
        "- for loop through a dictionary\r\n",
        "- for loop using enumerate\r\n",
        "- for loop over two or more sequences at the same time using zip\r\n",
        "- nested for loop\r\n",
        "\r\n",
        "We will use **range(), enumerate(), reversed(), set(), & sorted() functions **for many of these loops\r\n",
        "\r\n",
        "\r\n",
        "#Break, Continue and pass statements\r\n",
        "- for loop with if-else\r\n",
        "- for loop with break statement\r\n",
        "- for loop with continue statement\r\n",
        "- for loop with pass statement\r\n"
      ]
    },
    {
      "cell_type": "markdown",
      "metadata": {
        "id": "yyqUPjCPlajh"
      },
      "source": [
        "##range() function\r\n",
        "\r\n",
        "In many ways the object returned by range() behaves as if it is a list, but in fact it isn’t. It is an object which returns the successive items of the desired sequence when you iterate over it, but it doesn’t really make the list, thus saving space.\r\n",
        "\r\n",
        "We say such an object is iterable, that is, suitable as a target for functions and constructs that expect something from which they can obtain successive items until the supply is exhausted"
      ]
    },
    {
      "cell_type": "code",
      "metadata": {
        "colab": {
          "base_uri": "https://localhost:8080/"
        },
        "id": "7gumkJCdlZUd",
        "outputId": "d1b62902-7998-42fa-bfd9-0ace31dcc9ae"
      },
      "source": [
        "range(5)\r\n",
        "list(range(1, 6))"
      ],
      "execution_count": null,
      "outputs": [
        {
          "output_type": "execute_result",
          "data": {
            "text/plain": [
              "[1, 2, 3, 4, 5]"
            ]
          },
          "metadata": {
            "tags": []
          },
          "execution_count": 26
        }
      ]
    },
    {
      "cell_type": "code",
      "metadata": {
        "colab": {
          "base_uri": "https://localhost:8080/"
        },
        "id": "a8Ct2ZXnlvhb",
        "outputId": "b4d1ee9e-4b9e-4984-f4ba-663b98da07d0"
      },
      "source": [
        "range(1, 10)"
      ],
      "execution_count": null,
      "outputs": [
        {
          "output_type": "execute_result",
          "data": {
            "text/plain": [
              "range(1, 10)"
            ]
          },
          "metadata": {
            "tags": []
          },
          "execution_count": 27
        }
      ]
    },
    {
      "cell_type": "code",
      "metadata": {
        "colab": {
          "base_uri": "https://localhost:8080/"
        },
        "id": "mm-noCf_lw78",
        "outputId": "9fdf0edf-ed15-4551-bc71-dce5ac7d7924"
      },
      "source": [
        "list(range(0, 11, 2))"
      ],
      "execution_count": null,
      "outputs": [
        {
          "output_type": "execute_result",
          "data": {
            "text/plain": [
              "[0, 2, 4, 6, 8, 10]"
            ]
          },
          "metadata": {
            "tags": []
          },
          "execution_count": 30
        }
      ]
    },
    {
      "cell_type": "code",
      "metadata": {
        "id": "eulFR0RmlzJ9"
      },
      "source": [
        "list(range(5))"
      ],
      "execution_count": null,
      "outputs": []
    },
    {
      "cell_type": "code",
      "metadata": {
        "id": "F-qm-OJ2l1Bq"
      },
      "source": [
        "list(range(1, 5))"
      ],
      "execution_count": null,
      "outputs": []
    },
    {
      "cell_type": "code",
      "metadata": {
        "id": "fzApdhBLl3Yu"
      },
      "source": [
        "list(range(1, 10, 3))"
      ],
      "execution_count": null,
      "outputs": []
    },
    {
      "cell_type": "markdown",
      "metadata": {
        "id": "BkGA99tQmD-Z"
      },
      "source": [
        "## for loops through a range of numbers"
      ]
    },
    {
      "cell_type": "code",
      "metadata": {
        "id": "xA-7u95bTUzA"
      },
      "source": [
        "for i in range(11):\r\n",
        "  i  = 20 + i\r\n",
        "  print(i)  \r\n",
        "  print('done')\r\n"
      ],
      "execution_count": null,
      "outputs": []
    },
    {
      "cell_type": "code",
      "metadata": {
        "id": "svzVveZXl-WY"
      },
      "source": [
        "for i in range(5):\r\n",
        "  print(i)\r\n",
        "  # print(5)\r\n",
        "print(\"loop done\")"
      ],
      "execution_count": null,
      "outputs": []
    },
    {
      "cell_type": "code",
      "metadata": {
        "id": "MiTGIJsAojhs"
      },
      "source": [
        "for i in range(1, 10, 2):\r\n",
        "  # print(\"odd number:\")\r\n",
        "  print(i)"
      ],
      "execution_count": null,
      "outputs": []
    },
    {
      "cell_type": "markdown",
      "metadata": {
        "id": "o-ONef0soR7d"
      },
      "source": [
        "##for loop over a sequence in reverse"
      ]
    },
    {
      "cell_type": "code",
      "metadata": {
        "colab": {
          "base_uri": "https://localhost:8080/"
        },
        "id": "oeAtcQYZU76x",
        "outputId": "1ab16211-9aa4-45f5-99fe-05c27ad630a4"
      },
      "source": [
        "for i in reversed(range(5)):\r\n",
        "  print(i)"
      ],
      "execution_count": null,
      "outputs": [
        {
          "output_type": "stream",
          "text": [
            "4\n",
            "3\n",
            "2\n",
            "1\n",
            "0\n"
          ],
          "name": "stdout"
        }
      ]
    },
    {
      "cell_type": "code",
      "metadata": {
        "colab": {
          "base_uri": "https://localhost:8080/"
        },
        "id": "6dQV52xRoJOl",
        "outputId": "2d4d49a9-9613-462f-bd43-1c6ba534665b"
      },
      "source": [
        "for i in reversed(range(1, 10, 2)):\r\n",
        "  print(i)"
      ],
      "execution_count": null,
      "outputs": [
        {
          "output_type": "stream",
          "text": [
            "9\n",
            "7\n",
            "5\n",
            "3\n",
            "1\n"
          ],
          "name": "stdout"
        }
      ]
    },
    {
      "cell_type": "markdown",
      "metadata": {
        "id": "_-f92QNtn1ZM"
      },
      "source": [
        "## for loops through a string"
      ]
    },
    {
      "cell_type": "code",
      "metadata": {
        "colab": {
          "base_uri": "https://localhost:8080/"
        },
        "id": "a_4f4HkxnpCZ",
        "outputId": "7e5b0a95-11ea-46b1-d1fb-2506f7030598"
      },
      "source": [
        "for i in \"Python\":\r\n",
        "  print(i)"
      ],
      "execution_count": null,
      "outputs": [
        {
          "output_type": "stream",
          "text": [
            "P\n",
            "y\n",
            "t\n",
            "h\n",
            "o\n",
            "n\n"
          ],
          "name": "stdout"
        }
      ]
    },
    {
      "cell_type": "markdown",
      "metadata": {
        "id": "21kNP98wn52t"
      },
      "source": [
        "## for loops through a list"
      ]
    },
    {
      "cell_type": "code",
      "metadata": {
        "colab": {
          "base_uri": "https://localhost:8080/"
        },
        "id": "TjxNaFwdV7EK",
        "outputId": "d248ec26-638a-4c4a-b14c-4526a1126462"
      },
      "source": [
        "len(\"python\")"
      ],
      "execution_count": null,
      "outputs": [
        {
          "output_type": "execute_result",
          "data": {
            "text/plain": [
              "6"
            ]
          },
          "metadata": {
            "tags": []
          },
          "execution_count": 40
        }
      ]
    },
    {
      "cell_type": "code",
      "metadata": {
        "colab": {
          "base_uri": "https://localhost:8080/"
        },
        "id": "M6UnwQDLmKqN",
        "outputId": "b31b5d5f-db86-40a0-ca44-a20aba4ad3f4"
      },
      "source": [
        "x = [\"delhi\",\"pune\",\"mumbai\",\r\n",
        "    \"bangalore\",\"hyderabad\",\"lucknow\",\"chennai\"]\r\n",
        "\r\n",
        "for city in x:\r\n",
        "  print(city)\r\n",
        "  print(len(city))"
      ],
      "execution_count": null,
      "outputs": [
        {
          "output_type": "stream",
          "text": [
            "delhi\n",
            "5\n",
            "pune\n",
            "4\n",
            "mumbai\n",
            "6\n",
            "bangalore\n",
            "9\n",
            "hyderabad\n",
            "9\n",
            "lucknow\n",
            "7\n",
            "chennai\n",
            "7\n"
          ],
          "name": "stdout"
        }
      ]
    },
    {
      "cell_type": "code",
      "metadata": {
        "colab": {
          "base_uri": "https://localhost:8080/"
        },
        "id": "dmF5rKnKnwh6",
        "outputId": "3d311aa2-74a1-4985-aca9-c49791dd912a"
      },
      "source": [
        "age = [26, 35, 45, 36]\r\n",
        "\r\n",
        "for age in age:\r\n",
        "  print(age)"
      ],
      "execution_count": null,
      "outputs": [
        {
          "output_type": "stream",
          "text": [
            "26\n",
            "35\n",
            "45\n",
            "36\n"
          ],
          "name": "stdout"
        }
      ]
    },
    {
      "cell_type": "markdown",
      "metadata": {
        "id": "dZNqwuCbuAw2"
      },
      "source": [
        "##for loop over a sequence in sorted order"
      ]
    },
    {
      "cell_type": "code",
      "metadata": {
        "colab": {
          "base_uri": "https://localhost:8080/"
        },
        "id": "qI8Ma875uEn7",
        "outputId": "6430be18-bda6-403c-dc15-329726883447"
      },
      "source": [
        "x = [\"delhi\",\"pune\",\"mumbai\",\r\n",
        "    \"bangalore\",\"hyderabad\",\"lucknow\",\"chennai\", \"delhi\", \"pune\"]\r\n",
        "\r\n",
        "# print(sorted(x))\r\n",
        "\r\n",
        "# for city in sorted(x):\r\n",
        "#   print(city)\r\n",
        "\r\n",
        "# print(sorted(set(x)))\r\n",
        "\r\n",
        "for city in sorted(set(x)):\r\n",
        "  print(city)"
      ],
      "execution_count": null,
      "outputs": [
        {
          "output_type": "stream",
          "text": [
            "bangalore\n",
            "chennai\n",
            "delhi\n",
            "hyderabad\n",
            "lucknow\n",
            "mumbai\n",
            "pune\n"
          ],
          "name": "stdout"
        }
      ]
    },
    {
      "cell_type": "code",
      "metadata": {
        "id": "9caN1C0VuEh-"
      },
      "source": [
        "age = [26, 35, 45, 36, 26, 47, 26, 35, 49]\r\n",
        "\r\n",
        "for i in sorted(age):\r\n",
        "  print(i)"
      ],
      "execution_count": null,
      "outputs": []
    },
    {
      "cell_type": "markdown",
      "metadata": {
        "id": "wSCDi-fkvEx9"
      },
      "source": [
        "## for loop over unique elements of the sequence in sorted order"
      ]
    },
    {
      "cell_type": "code",
      "metadata": {
        "colab": {
          "base_uri": "https://localhost:8080/"
        },
        "id": "vDOaZHJLX28u",
        "outputId": "f586f776-071e-4a7c-c71f-af88ceca807e"
      },
      "source": [
        "set([1,3,4])\r\n",
        "\r\n",
        "set((1,3,4))\r\n",
        "\r\n",
        "x = [\"delhi\",\"pune\",\"mumbai\",\r\n",
        "    \"bangalore\",\"hyderabad\",\"lucknow\",\"chennai\", \"delhi\", \"pune\"]\r\n",
        "\r\n",
        "set(x)    "
      ],
      "execution_count": null,
      "outputs": [
        {
          "output_type": "execute_result",
          "data": {
            "text/plain": [
              "{'bangalore', 'chennai', 'delhi', 'hyderabad', 'lucknow', 'mumbai', 'pune'}"
            ]
          },
          "metadata": {
            "tags": []
          },
          "execution_count": 24
        }
      ]
    },
    {
      "cell_type": "code",
      "metadata": {
        "cellView": "form",
        "id": "2lXLtXVrBev_"
      },
      "source": [
        "#@title\n",
        "from platform import python_version\n",
        "python_version() #3.6.9\n"
      ],
      "execution_count": null,
      "outputs": []
    },
    {
      "cell_type": "code",
      "metadata": {
        "id": "RAAMJkwuu0fv",
        "colab": {
          "base_uri": "https://localhost:8080/"
        },
        "outputId": "1473482a-c510-493f-a988-6e4c0447f3fc"
      },
      "source": [
        "x = [\"delhi\",\"pune\",\"mumbai\",\r\n",
        "    \"bangalore\",\"hyderabad\",\"lucknow\",\"chennai\", \"delhi\", \"pune\"]\r\n",
        "\r\n",
        "for city in sorted(set(x)):\r\n",
        "  print(city)\r\n",
        "\r\n",
        "# Using set() on a sequence eliminates duplicate elements.   "
      ],
      "execution_count": null,
      "outputs": [
        {
          "output_type": "stream",
          "text": [
            "bangalore\n",
            "chennai\n",
            "delhi\n",
            "hyderabad\n",
            "lucknow\n",
            "mumbai\n",
            "pune\n"
          ],
          "name": "stdout"
        }
      ]
    },
    {
      "cell_type": "code",
      "metadata": {
        "id": "QTcrYgkqvUgs"
      },
      "source": [
        "age = [26, 35, 45, 36, 26, 47, 26, 35, 49]\r\n",
        "\r\n",
        "for i in sorted(set(age)):\r\n",
        "  print(i)"
      ],
      "execution_count": null,
      "outputs": []
    },
    {
      "cell_type": "markdown",
      "metadata": {
        "id": "gEY3JUj8vm7u"
      },
      "source": [
        "## for loop with if-else"
      ]
    },
    {
      "cell_type": "code",
      "metadata": {
        "colab": {
          "base_uri": "https://localhost:8080/"
        },
        "id": "KNMy_FdLisTG",
        "outputId": "ae5ed0bc-cdd3-46e5-8cc0-d10ff4e645a1"
      },
      "source": [
        "age = [26, 16, 18, 19, 35, 45, 36]\r\n",
        "\r\n",
        "for i in age:\r\n",
        "  print('age is: ', i)\r\n",
        "  if i <= 20:\r\n",
        "    print(\"junior\")\r\n",
        "  else: \r\n",
        "    print(\"senior\") \r\n",
        "  # print('text') \r\n",
        "\r\n",
        "print(\"done\")  \r\n",
        "\r\n"
      ],
      "execution_count": null,
      "outputs": [
        {
          "output_type": "stream",
          "text": [
            "age is:  26\n",
            "senior\n",
            "age is:  16\n",
            "junior\n",
            "age is:  18\n",
            "junior\n",
            "age is:  19\n",
            "junior\n",
            "age is:  35\n",
            "senior\n",
            "age is:  45\n",
            "senior\n",
            "age is:  36\n",
            "senior\n",
            "done\n"
          ],
          "name": "stdout"
        }
      ]
    },
    {
      "cell_type": "code",
      "metadata": {
        "colab": {
          "base_uri": "https://localhost:8080/"
        },
        "id": "mEOs623PjySl",
        "outputId": "5a792330-fb09-4c9e-b13e-062b28035264"
      },
      "source": [
        "age = [26, 16, 18, 19, 35, 45, 36]\r\n",
        "\r\n",
        "for i in age:\r\n",
        "  if i > 40:\r\n",
        "    break \r\n",
        "  print('age is: ', i)  \r\n",
        "\r\n",
        "print(\"done\")  "
      ],
      "execution_count": null,
      "outputs": [
        {
          "output_type": "stream",
          "text": [
            "age is:  26\n",
            "age is:  16\n",
            "age is:  18\n",
            "age is:  19\n",
            "age is:  35\n",
            "done\n"
          ],
          "name": "stdout"
        }
      ]
    },
    {
      "cell_type": "code",
      "metadata": {
        "colab": {
          "base_uri": "https://localhost:8080/"
        },
        "id": "2Iz02bsJket-",
        "outputId": "107a554b-7d18-4cb4-9245-c3aeeedf802b"
      },
      "source": [
        "age = [26, 16, 18, 19, 35, 45, 36, 34, 43, 23]\r\n",
        "\r\n",
        "for i in age:\r\n",
        "  if i > 40:\r\n",
        "    continue \r\n",
        "  print('age is: ', i)  \r\n",
        "\r\n",
        "print(\"done\") "
      ],
      "execution_count": null,
      "outputs": [
        {
          "output_type": "stream",
          "text": [
            "age is:  26\n",
            "age is:  16\n",
            "age is:  18\n",
            "age is:  19\n",
            "age is:  35\n",
            "age is:  36\n",
            "age is:  34\n",
            "age is:  23\n",
            "done\n"
          ],
          "name": "stdout"
        }
      ]
    },
    {
      "cell_type": "code",
      "metadata": {
        "id": "3IkWs7LbtOdZ"
      },
      "source": [
        "age = [26, 16, 18, 19, 35, 45, 36]\r\n",
        "\r\n",
        "for i in age:\r\n",
        "  print(i)\r\n",
        "  if i <= 20:\r\n",
        "    print(\"junior\")\r\n",
        "  else: \r\n",
        "    print(\"senior\")\r\n",
        "print('Done')  "
      ],
      "execution_count": null,
      "outputs": []
    },
    {
      "cell_type": "markdown",
      "metadata": {
        "id": "mzoIxeTCvs5T"
      },
      "source": [
        "##for loop with if and break"
      ]
    },
    {
      "cell_type": "code",
      "metadata": {
        "id": "WOUyANvOwNRh"
      },
      "source": [
        "fruits = [\"apple\",\"mango\", \"orange\", \"banana\", \"cherry\"]\r\n",
        "\r\n",
        "for x in fruits:\r\n",
        "  if x == \"banana\":\r\n",
        "    break\r\n",
        "  print(x)"
      ],
      "execution_count": null,
      "outputs": []
    },
    {
      "cell_type": "code",
      "metadata": {
        "id": "DTOnsek7t1MQ"
      },
      "source": [
        "age = [26, 16, 18, 19, 35, 45, 36]\r\n",
        "\r\n",
        "for i in age:\r\n",
        "  print(i)\r\n",
        "  if i <= 20:\r\n",
        "    break\r\n",
        "print('Done')  "
      ],
      "execution_count": null,
      "outputs": []
    },
    {
      "cell_type": "code",
      "metadata": {
        "id": "XB8v7kqFwB2M"
      },
      "source": [
        "age = [26, 16, 18, 19, 35, 45, 36]\r\n",
        "\r\n",
        "for i in age:\r\n",
        "  print(i)\r\n",
        "  if i <= 20:\r\n",
        "    break\r\n",
        "  else: \r\n",
        "    print(\"senior\")\r\n",
        "print('Done')  "
      ],
      "execution_count": null,
      "outputs": []
    },
    {
      "cell_type": "markdown",
      "metadata": {
        "id": "sv1BzJrUwhuS"
      },
      "source": [
        "## for loop with if and continue"
      ]
    },
    {
      "cell_type": "code",
      "metadata": {
        "id": "1bJ5GPgBwlIh"
      },
      "source": [
        "fruits = [\"apple\",\"mango\", \"orange\", \"banana\", \"cherry\"]\r\n",
        "\r\n",
        "for x in fruits:\r\n",
        "  if x == \"banana\":\r\n",
        "    continue\r\n",
        "  print(x)"
      ],
      "execution_count": null,
      "outputs": []
    },
    {
      "cell_type": "code",
      "metadata": {
        "id": "VaP0pNvDw1-i"
      },
      "source": [
        "age = [26, 16, 18, 19, 35, 45, 36]\r\n",
        "\r\n",
        "for i in age:\r\n",
        "  print(i)\r\n",
        "  if i <= 20:\r\n",
        "    continue\r\n",
        "  else: \r\n",
        "    print(\"senior\")\r\n",
        "print('Done')  "
      ],
      "execution_count": null,
      "outputs": []
    },
    {
      "cell_type": "markdown",
      "metadata": {
        "id": "fy62Y2VsC64T"
      },
      "source": [
        "## for loop with pass statement"
      ]
    },
    {
      "cell_type": "code",
      "metadata": {
        "id": "4W4tDxU4mGJb"
      },
      "source": [
        "x = 100\r\n",
        "if x < 10:\r\n",
        "  pass"
      ],
      "execution_count": null,
      "outputs": []
    },
    {
      "cell_type": "code",
      "metadata": {
        "colab": {
          "base_uri": "https://localhost:8080/"
        },
        "id": "AIS3HZ8BlOYE",
        "outputId": "60643bb1-539e-4ce4-e0ce-7e127cfd3d98"
      },
      "source": [
        "marks = [23, 45, 56, 67, 98, 76, 84]\r\n",
        "\r\n",
        "for i in marks:\r\n",
        "  if i <= 60:\r\n",
        "    pass\r\n",
        "  elif 61 < i <= 80:\r\n",
        "    pass\r\n",
        "  else:\r\n",
        "    pass \r\n"
      ],
      "execution_count": null,
      "outputs": [
        {
          "output_type": "stream",
          "text": [
            "0\n"
          ],
          "name": "stdout"
        }
      ]
    },
    {
      "cell_type": "code",
      "metadata": {
        "id": "RC5EmH9BDASO"
      },
      "source": [
        "x = 10\r\n",
        "\r\n",
        "if x < 5:\r\n",
        "  pass"
      ],
      "execution_count": null,
      "outputs": []
    },
    {
      "cell_type": "code",
      "metadata": {
        "id": "yb5-6-lRDP5Z"
      },
      "source": [
        "x = ['p', 'y', 't', 'h', 'o', 'n']\r\n",
        "\r\n",
        "for letter in x:\r\n",
        "    pass"
      ],
      "execution_count": null,
      "outputs": []
    },
    {
      "cell_type": "code",
      "metadata": {
        "id": "8ZABFO0dD4-V"
      },
      "source": [
        "for i in range(1, 11):\r\n",
        "  if i < 5:\r\n",
        "    pass\r\n",
        "  print(i)\r\n",
        "    "
      ],
      "execution_count": null,
      "outputs": []
    },
    {
      "cell_type": "code",
      "metadata": {
        "id": "HNK6gwpaJ40j"
      },
      "source": [
        "for letter in 'Pooja': \r\n",
        "   if letter == 'j':\r\n",
        "      pass\r\n",
        "      print('This is pass block')\r\n",
        "   print('Current Letter :', letter)"
      ],
      "execution_count": null,
      "outputs": []
    },
    {
      "cell_type": "markdown",
      "metadata": {
        "id": "aa6TDXBROE2y"
      },
      "source": [
        "## for loop through tuple"
      ]
    },
    {
      "cell_type": "code",
      "metadata": {
        "colab": {
          "base_uri": "https://localhost:8080/"
        },
        "id": "kNBQI8xmzO6X",
        "outputId": "8cad6d98-0973-4e42-bcce-c6baebfa75ab"
      },
      "source": [
        "for i in (1, 2, 3, 4):\r\n",
        "  print(i)"
      ],
      "execution_count": null,
      "outputs": [
        {
          "output_type": "stream",
          "text": [
            "1\n",
            "2\n",
            "3\n",
            "4\n"
          ],
          "name": "stdout"
        }
      ]
    },
    {
      "cell_type": "markdown",
      "metadata": {
        "id": "Cs3nJrWWxnXn"
      },
      "source": [
        "## for loop through a dictionary\r\n",
        "\r\n",
        "When looping through dictionaries, the key and corresponding value can be retrieved at the same time using the items() method."
      ]
    },
    {
      "cell_type": "code",
      "metadata": {
        "colab": {
          "base_uri": "https://localhost:8080/"
        },
        "id": "jvHaI6fROJ3B",
        "outputId": "b4ce1ee0-7f0b-48bc-d57f-ba54eb18f9c2"
      },
      "source": [
        "friends = {'Harry': 'Potter', 'Ron': 'Weasley', 'Hermione': 'Granger'}\r\n",
        "\r\n",
        "# print(friends.keys())\r\n",
        "# print(friends.values())\r\n",
        "print(friends.items())"
      ],
      "execution_count": null,
      "outputs": [
        {
          "output_type": "stream",
          "text": [
            "dict_items([('Harry', 'Potter'), ('Ron', 'Weasley'), ('Hermione', 'Granger')])\n"
          ],
          "name": "stdout"
        }
      ]
    },
    {
      "cell_type": "code",
      "metadata": {
        "colab": {
          "base_uri": "https://localhost:8080/"
        },
        "id": "290VbzixYo-X",
        "outputId": "8a1e54c5-36b6-467f-cd46-478c90db58f5"
      },
      "source": [
        "print(\"nisha\", \"arora\")"
      ],
      "execution_count": null,
      "outputs": [
        {
          "output_type": "stream",
          "text": [
            "nisha arora\n"
          ],
          "name": "stdout"
        }
      ]
    },
    {
      "cell_type": "code",
      "metadata": {
        "colab": {
          "base_uri": "https://localhost:8080/"
        },
        "id": "vdOdJYTdxp5s",
        "outputId": "45bad762-e890-4f81-8d52-8140fc478940"
      },
      "source": [
        "friends = {'Harry': 'Potter', 'Ron': 'Weasley', 'Hermione': 'Granger'}\r\n",
        "\r\n",
        "for k, v in friends.items():\r\n",
        "  print(k, v)"
      ],
      "execution_count": null,
      "outputs": [
        {
          "output_type": "stream",
          "text": [
            "Harry Potter\n",
            "Ron Weasley\n",
            "Hermione Granger\n"
          ],
          "name": "stdout"
        }
      ]
    },
    {
      "cell_type": "code",
      "metadata": {
        "colab": {
          "base_uri": "https://localhost:8080/"
        },
        "id": "vVFlLUl0ydhv",
        "outputId": "69ff3649-203f-445b-fa5d-2dc6b3cea40b"
      },
      "source": [
        "friends = {'Harry': 'Potter', 'Ron': 'Weasley', 'Hermione': 'Granger'}\r\n",
        "\r\n",
        "for k in friends.keys():\r\n",
        "  print(\"First Name is: \", k)\r\n",
        " "
      ],
      "execution_count": null,
      "outputs": [
        {
          "output_type": "stream",
          "text": [
            "First Name is:  Harry\n",
            "First Name is:  Ron\n",
            "First Name is:  Hermione\n"
          ],
          "name": "stdout"
        }
      ]
    },
    {
      "cell_type": "code",
      "metadata": {
        "id": "sICu6meLOaST",
        "colab": {
          "base_uri": "https://localhost:8080/"
        },
        "outputId": "8e632bfc-4457-4145-aa29-efedf560ef7c"
      },
      "source": [
        "friends = {'Harry': 'Potter', 'Ron': 'Weasley', 'Hermione': 'Granger'}\r\n",
        "\r\n",
        "for k in friends.values():\r\n",
        "  print(\"Hi! \", k) "
      ],
      "execution_count": null,
      "outputs": [
        {
          "output_type": "stream",
          "text": [
            "Hi!  Potter\n",
            "Hi!  Weasley\n",
            "Hi!  Granger\n"
          ],
          "name": "stdout"
        }
      ]
    },
    {
      "cell_type": "code",
      "metadata": {
        "colab": {
          "base_uri": "https://localhost:8080/"
        },
        "id": "Cx2bQ3m8ytoV",
        "outputId": "b759d0e0-034e-4ed9-f809-07297c2da510"
      },
      "source": [
        "list = []\r\n",
        "\r\n",
        "for k in friends.keys():\r\n",
        "  list.append(k)\r\n",
        "print(list)"
      ],
      "execution_count": null,
      "outputs": [
        {
          "output_type": "stream",
          "text": [
            "['Harry', 'Ron', 'Hermione']\n"
          ],
          "name": "stdout"
        }
      ]
    },
    {
      "cell_type": "markdown",
      "metadata": {
        "id": "FGuL1_sU0g-m"
      },
      "source": [
        "##enumerate() function"
      ]
    },
    {
      "cell_type": "code",
      "metadata": {
        "id": "9bnNUr1QZ1Pm",
        "colab": {
          "base_uri": "https://localhost:8080/"
        },
        "outputId": "a536fdf4-4114-44ad-92f6-35f23d7cafbb"
      },
      "source": [
        "x = [\"foo\", \"bar\", \"baz\"]\r\n",
        "list(enumerate(x))"
      ],
      "execution_count": null,
      "outputs": [
        {
          "output_type": "execute_result",
          "data": {
            "text/plain": [
              "[(0, 'red'), (1, 'blue'), (2, 'green')]"
            ]
          },
          "metadata": {
            "tags": []
          },
          "execution_count": 25
        }
      ]
    },
    {
      "cell_type": "code",
      "metadata": {
        "id": "xpeK7SpBGaBZ",
        "colab": {
          "base_uri": "https://localhost:8080/"
        },
        "outputId": "fec75275-1e10-415d-e633-5d123d7855cb"
      },
      "source": [
        "list(enumerate([1, 2, 3]))"
      ],
      "execution_count": 5,
      "outputs": [
        {
          "output_type": "execute_result",
          "data": {
            "text/plain": [
              "[(0, 1), (1, 2), (2, 3)]"
            ]
          },
          "metadata": {
            "tags": []
          },
          "execution_count": 5
        }
      ]
    },
    {
      "cell_type": "code",
      "metadata": {
        "id": "eQAl-hCNGm9D",
        "colab": {
          "base_uri": "https://localhost:8080/"
        },
        "outputId": "cf863bbf-65fd-450f-c5cd-e721ffcf47c7"
      },
      "source": [
        "list(enumerate([1, 2, 3], start=10))"
      ],
      "execution_count": 6,
      "outputs": [
        {
          "output_type": "execute_result",
          "data": {
            "text/plain": [
              "[(10, 1), (11, 2), (12, 3)]"
            ]
          },
          "metadata": {
            "tags": []
          },
          "execution_count": 6
        }
      ]
    },
    {
      "cell_type": "code",
      "metadata": {
        "id": "zF_GOw3v0lKC",
        "colab": {
          "base_uri": "https://localhost:8080/"
        },
        "outputId": "e047169c-67df-4690-c2ff-b4a58937888c"
      },
      "source": [
        "seasons = ['Spring', 'Summer', 'Fall', 'Winter']\r\n",
        "enumerate(seasons)\r\n",
        "print(list(enumerate(seasons)))"
      ],
      "execution_count": null,
      "outputs": [
        {
          "output_type": "stream",
          "text": [
            "[(0, 'Spring'), (1, 'Summer'), (2, 'Fall'), (3, 'Winter')]\n"
          ],
          "name": "stdout"
        }
      ]
    },
    {
      "cell_type": "markdown",
      "metadata": {
        "id": "6da6jiaQ0TvW"
      },
      "source": [
        "##for loop using enumerate"
      ]
    },
    {
      "cell_type": "code",
      "metadata": {
        "colab": {
          "base_uri": "https://localhost:8080/"
        },
        "id": "OpXJx5ZiMcet",
        "outputId": "da3f196d-0fb5-456e-bd91-2b46bb4f974c"
      },
      "source": [
        "colors = ['red', 'green', 'blue']\r\n",
        "\r\n",
        "for i, j in enumerate(colors, start = 1):\r\n",
        "    print(i, j)\r\n",
        "    # print(type(i))"
      ],
      "execution_count": null,
      "outputs": [
        {
          "output_type": "stream",
          "text": [
            "1 red\n",
            "2 green\n",
            "3 blue\n"
          ],
          "name": "stdout"
        }
      ]
    },
    {
      "cell_type": "code",
      "metadata": {
        "id": "kc5BwZHc00hS",
        "colab": {
          "base_uri": "https://localhost:8080/"
        },
        "outputId": "9d385435-630c-4340-9159-52232f363437"
      },
      "source": [
        "seq = ['one', 'two', 'three']\r\n",
        "\r\n",
        "for i, element in enumerate(seq):\r\n",
        "    print(i, element)"
      ],
      "execution_count": 8,
      "outputs": [
        {
          "output_type": "stream",
          "text": [
            "0 one\n",
            "1 two\n",
            "2 three\n"
          ],
          "name": "stdout"
        }
      ]
    },
    {
      "cell_type": "code",
      "metadata": {
        "id": "YXQnQfRr2_vi",
        "colab": {
          "base_uri": "https://localhost:8080/"
        },
        "outputId": "44e29b79-1c52-49ef-c5c4-6b955607a12e"
      },
      "source": [
        "for i, v in enumerate(['orange', 'white', 'green'], 1):\r\n",
        "  print(i, v)"
      ],
      "execution_count": 9,
      "outputs": [
        {
          "output_type": "stream",
          "text": [
            "1 orange\n",
            "2 white\n",
            "3 green\n"
          ],
          "name": "stdout"
        }
      ]
    },
    {
      "cell_type": "markdown",
      "metadata": {
        "id": "-6-Y1Bhm26Bw"
      },
      "source": [
        "## for loop over two or more sequences at the same time using zip"
      ]
    },
    {
      "cell_type": "code",
      "metadata": {
        "colab": {
          "base_uri": "https://localhost:8080/"
        },
        "id": "DZCmfxI4zzOs",
        "outputId": "6828c0e0-b493-4364-a659-a58e9d76c0da"
      },
      "source": [
        "first = [\"a\", \"b\", \"c\"]\r\n",
        "second = [\"d\", \"e\", \"f\"]\r\n",
        "third = [\"g\", \"h\", \"i\"]\r\n",
        "\r\n",
        "for i, j, k in zip(first, second, third):\r\n",
        "  print(i, j, k)"
      ],
      "execution_count": null,
      "outputs": [
        {
          "output_type": "stream",
          "text": [
            "a d g\n",
            "b e h\n",
            "c f i\n"
          ],
          "name": "stdout"
        }
      ]
    },
    {
      "cell_type": "code",
      "metadata": {
        "colab": {
          "base_uri": "https://localhost:8080/"
        },
        "id": "sTRzItWv27ul",
        "outputId": "1948131d-b655-4df5-d13d-ae04c543fa35"
      },
      "source": [
        "questions = ['Name?', 'Education?', 'Profession?']\r\n",
        "answers = ['Nisha', 'PhD', 'Training']\r\n",
        "\r\n",
        "for q, a in zip(questions, answers):\r\n",
        "  print('What is your {0}  It is {1}.'.format(q, a))"
      ],
      "execution_count": null,
      "outputs": [
        {
          "output_type": "stream",
          "text": [
            "What is your Name?  It is Nisha.\n",
            "What is your Education?  It is PhD.\n",
            "What is your Profession?  It is Training.\n"
          ],
          "name": "stdout"
        }
      ]
    },
    {
      "cell_type": "markdown",
      "metadata": {
        "id": "6LwzUJBJ35F7"
      },
      "source": [
        "##Nested for loop"
      ]
    },
    {
      "cell_type": "code",
      "metadata": {
        "colab": {
          "base_uri": "https://localhost:8080/"
        },
        "id": "6qt7I8-y2z5v",
        "outputId": "0d5781e3-f9ae-41c0-cc95-aef28689de86"
      },
      "source": [
        "adj = [\"red\", \"small\", \"tasty\"]\r\n",
        "fruits = [\"apple\", \"plum\", \"cherry\"]\r\n",
        "\r\n",
        "for x in adj:\r\n",
        "  for y in fruits:\r\n",
        "    print(x, y)"
      ],
      "execution_count": null,
      "outputs": [
        {
          "output_type": "stream",
          "text": [
            "red apple\n",
            "red plum\n",
            "red cherry\n",
            "small apple\n",
            "small plum\n",
            "small cherry\n",
            "tasty apple\n",
            "tasty plum\n",
            "tasty cherry\n"
          ],
          "name": "stdout"
        }
      ]
    },
    {
      "cell_type": "code",
      "metadata": {
        "colab": {
          "base_uri": "https://localhost:8080/"
        },
        "id": "YmB_J4G94DW7",
        "outputId": "bc41de08-40f8-4238-c3c9-35490e9cabec"
      },
      "source": [
        "for outer in ['first', 'second', 'third']:\r\n",
        "  print(outer)\r\n",
        "  for inner in [1, 2, 3]:\r\n",
        "    print(inner)"
      ],
      "execution_count": null,
      "outputs": [
        {
          "output_type": "stream",
          "text": [
            "first\n",
            "1\n",
            "2\n",
            "3\n",
            "second\n",
            "1\n",
            "2\n",
            "3\n",
            "third\n",
            "1\n",
            "2\n",
            "3\n"
          ],
          "name": "stdout"
        }
      ]
    },
    {
      "cell_type": "code",
      "metadata": {
        "id": "Sf-SUfeB4sej",
        "colab": {
          "base_uri": "https://localhost:8080/"
        },
        "outputId": "d61493e4-e46a-40e0-d761-af1dafce4938"
      },
      "source": [
        "for outer in ['first', 'second', 'third']:\r\n",
        "  print(outer)\r\n",
        "  for inner in range(1, 4):\r\n",
        "    print(inner)"
      ],
      "execution_count": 7,
      "outputs": [
        {
          "output_type": "stream",
          "text": [
            "first\n",
            "1\n",
            "2\n",
            "3\n",
            "second\n",
            "1\n",
            "2\n",
            "3\n",
            "third\n",
            "1\n",
            "2\n",
            "3\n"
          ],
          "name": "stdout"
        }
      ]
    }
  ]
}
