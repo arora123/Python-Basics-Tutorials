{
  "nbformat": 4,
  "nbformat_minor": 0,
  "metadata": {
    "colab": {
      "name": "1. Data Type & Typecasting in Python",
      "provenance": [],
      "collapsed_sections": [],
      "include_colab_link": true
    },
    "kernelspec": {
      "display_name": "Python 3",
      "name": "python3"
    }
  },
  "cells": [
    {
      "cell_type": "markdown",
      "metadata": {
        "id": "view-in-github",
        "colab_type": "text"
      },
      "source": [
        "<a href=\"https://colab.research.google.com/github/arora123/Python-Basics-Tutorials/blob/main/1_Data_Type_%26_Typecasting_in_Python.ipynb\" target=\"_parent\"><img src=\"https://colab.research.google.com/assets/colab-badge.svg\" alt=\"Open In Colab\"/></a>"
      ]
    },
    {
      "cell_type": "markdown",
      "metadata": {
        "id": "UGiUpDwhEZ5m"
      },
      "source": [
        "#DataTypes in Python\r\n",
        "\r\n",
        "1. Numbers _ int, float, complex\r\n",
        "2. Strings\r\n",
        "3. Boolean\r\n",
        "\r\n",
        "#Comparision with R Data Type\r\n",
        "- Python's int is equivalant to R's integer\r\n",
        "- Python's float is equivalant to R's numeric (default)\r\n",
        "- Python's complex is equivalant to R's complex\r\n",
        "- Python's string is equivalant to R's character\r\n",
        "- Python's boolean (True/False) is equivalant to R's logical(T/F or TRUE/FALSE)\r\n",
        "- Python's int is equivalant to R's integer\r\n",
        "\r\n"
      ]
    },
    {
      "cell_type": "code",
      "metadata": {
        "colab": {
          "base_uri": "https://localhost:8080/"
        },
        "id": "lIYdn1woOS1n",
        "outputId": "7ab2b62d-18d4-4e31-f974-d9c5be7d8101"
      },
      "source": [
        "23"
      ],
      "execution_count": null,
      "outputs": [
        {
          "output_type": "execute_result",
          "data": {
            "text/plain": [
              "23"
            ]
          },
          "metadata": {
            "tags": []
          },
          "execution_count": 1
        }
      ]
    },
    {
      "cell_type": "code",
      "metadata": {
        "id": "3x54Bk4tEdB2",
        "colab": {
          "base_uri": "https://localhost:8080/"
        },
        "outputId": "7dcbdf68-048c-42f3-e754-d85b94bb8cbb"
      },
      "source": [
        "23+25"
      ],
      "execution_count": null,
      "outputs": [
        {
          "output_type": "execute_result",
          "data": {
            "text/plain": [
              "48"
            ]
          },
          "metadata": {
            "tags": []
          },
          "execution_count": 7
        }
      ]
    },
    {
      "cell_type": "code",
      "metadata": {
        "id": "3uCJQj-REoVo",
        "colab": {
          "base_uri": "https://localhost:8080/"
        },
        "outputId": "e7cb5955-34a0-4aad-8d84-ca05f99b1117"
      },
      "source": [
        "23-56"
      ],
      "execution_count": null,
      "outputs": [
        {
          "output_type": "execute_result",
          "data": {
            "text/plain": [
              "-33"
            ]
          },
          "metadata": {
            "tags": []
          },
          "execution_count": 8
        }
      ]
    },
    {
      "cell_type": "code",
      "metadata": {
        "id": "pkeKw8vwErrL",
        "colab": {
          "base_uri": "https://localhost:8080/"
        },
        "outputId": "3c212d79-36ff-4816-ad88-81cc89415212"
      },
      "source": [
        "23.5"
      ],
      "execution_count": null,
      "outputs": [
        {
          "output_type": "execute_result",
          "data": {
            "text/plain": [
              "23.5"
            ]
          },
          "metadata": {
            "tags": []
          },
          "execution_count": 9
        }
      ]
    },
    {
      "cell_type": "code",
      "metadata": {
        "id": "4-m01aH4E0Lh",
        "colab": {
          "base_uri": "https://localhost:8080/"
        },
        "outputId": "886a3619-b681-4628-9f04-69acaa0f0c82"
      },
      "source": [
        "25+23.3"
      ],
      "execution_count": null,
      "outputs": [
        {
          "output_type": "execute_result",
          "data": {
            "text/plain": [
              "48.3"
            ]
          },
          "metadata": {
            "tags": []
          },
          "execution_count": 10
        }
      ]
    },
    {
      "cell_type": "code",
      "metadata": {
        "id": "-LtRQQa5E2rl",
        "colab": {
          "base_uri": "https://localhost:8080/"
        },
        "outputId": "efcc7dc5-4454-4c2c-a025-a38d455ac8ee"
      },
      "source": [
        "34 + 32j"
      ],
      "execution_count": null,
      "outputs": [
        {
          "output_type": "execute_result",
          "data": {
            "text/plain": [
              "(34+32j)"
            ]
          },
          "metadata": {
            "tags": []
          },
          "execution_count": 12
        }
      ]
    },
    {
      "cell_type": "code",
      "metadata": {
        "id": "YbZYkj2WFGH0",
        "colab": {
          "base_uri": "https://localhost:8080/"
        },
        "outputId": "8f2ccd3e-f329-43c0-9c2b-176aa5417822"
      },
      "source": [
        "(2+3j) + (6-9j)"
      ],
      "execution_count": null,
      "outputs": [
        {
          "output_type": "execute_result",
          "data": {
            "text/plain": [
              "(8-6j)"
            ]
          },
          "metadata": {
            "tags": []
          },
          "execution_count": 13
        }
      ]
    },
    {
      "cell_type": "code",
      "metadata": {
        "id": "6EyqI1RzFVLt",
        "colab": {
          "base_uri": "https://localhost:8080/",
          "height": 35
        },
        "outputId": "b65c3a88-d474-4c6d-d014-a5dba790d52d"
      },
      "source": [
        "'hi, I am Nisha'"
      ],
      "execution_count": null,
      "outputs": [
        {
          "output_type": "execute_result",
          "data": {
            "application/vnd.google.colaboratory.intrinsic+json": {
              "type": "string"
            },
            "text/plain": [
              "'hi, I am Nisha'"
            ]
          },
          "metadata": {
            "tags": []
          },
          "execution_count": 15
        }
      ]
    },
    {
      "cell_type": "code",
      "metadata": {
        "id": "EvBD-V2AGYpq",
        "colab": {
          "base_uri": "https://localhost:8080/",
          "height": 35
        },
        "outputId": "857b42bd-5b73-43b3-ca0e-5e5475687850"
      },
      "source": [
        "\"hi, I am Nisha\""
      ],
      "execution_count": null,
      "outputs": [
        {
          "output_type": "execute_result",
          "data": {
            "application/vnd.google.colaboratory.intrinsic+json": {
              "type": "string"
            },
            "text/plain": [
              "'hi, I am Nisha'"
            ]
          },
          "metadata": {
            "tags": []
          },
          "execution_count": 16
        }
      ]
    },
    {
      "cell_type": "code",
      "metadata": {
        "id": "y_TmlNQdGjJc",
        "colab": {
          "base_uri": "https://localhost:8080/",
          "height": 35
        },
        "outputId": "f45c921a-060a-4029-e6eb-ccace21f0bc4"
      },
      "source": [
        "'67' + '56'"
      ],
      "execution_count": null,
      "outputs": [
        {
          "output_type": "execute_result",
          "data": {
            "application/vnd.google.colaboratory.intrinsic+json": {
              "type": "string"
            },
            "text/plain": [
              "'6756'"
            ]
          },
          "metadata": {
            "tags": []
          },
          "execution_count": 19
        }
      ]
    },
    {
      "cell_type": "code",
      "metadata": {
        "id": "8UfS2rIaGpVr",
        "colab": {
          "base_uri": "https://localhost:8080/",
          "height": 35
        },
        "outputId": "328102c4-8145-4f43-dc5f-edcc83155dfa"
      },
      "source": [
        "'This is Python 3.9'"
      ],
      "execution_count": null,
      "outputs": [
        {
          "output_type": "execute_result",
          "data": {
            "application/vnd.google.colaboratory.intrinsic+json": {
              "type": "string"
            },
            "text/plain": [
              "'This is Python 3.9'"
            ]
          },
          "metadata": {
            "tags": []
          },
          "execution_count": 20
        }
      ]
    },
    {
      "cell_type": "code",
      "metadata": {
        "id": "T1RjKRGMHCEL",
        "colab": {
          "base_uri": "https://localhost:8080/",
          "height": 35
        },
        "outputId": "5d96e2a0-a80d-422a-ac8d-65f3ed49cfac"
      },
      "source": [
        "\"it's a sample text\""
      ],
      "execution_count": null,
      "outputs": [
        {
          "output_type": "execute_result",
          "data": {
            "application/vnd.google.colaboratory.intrinsic+json": {
              "type": "string"
            },
            "text/plain": [
              "\"it's a sample text\""
            ]
          },
          "metadata": {
            "tags": []
          },
          "execution_count": 22
        }
      ]
    },
    {
      "cell_type": "code",
      "metadata": {
        "id": "kilKlicjHdrT",
        "colab": {
          "base_uri": "https://localhost:8080/",
          "height": 35
        },
        "outputId": "2193e426-12c8-4ef2-bfef-169639d644b1"
      },
      "source": [
        "'I love \"Python\"'"
      ],
      "execution_count": null,
      "outputs": [
        {
          "output_type": "execute_result",
          "data": {
            "application/vnd.google.colaboratory.intrinsic+json": {
              "type": "string"
            },
            "text/plain": [
              "'I love \"Python\"'"
            ]
          },
          "metadata": {
            "tags": []
          },
          "execution_count": 24
        }
      ]
    },
    {
      "cell_type": "code",
      "metadata": {
        "id": "6puTjE-2Ho3C",
        "colab": {
          "base_uri": "https://localhost:8080/",
          "height": 35
        },
        "outputId": "4bfb7081-5bde-4046-fada-7e1aa85156b1"
      },
      "source": [
        "# escape character '\\'\r\n",
        "\r\n",
        "'it\\'s a \"sample\" text'\r\n",
        "\r\n"
      ],
      "execution_count": null,
      "outputs": [
        {
          "output_type": "execute_result",
          "data": {
            "application/vnd.google.colaboratory.intrinsic+json": {
              "type": "string"
            },
            "text/plain": [
              "'it\\'s a \"sample\" text'"
            ]
          },
          "metadata": {
            "tags": []
          },
          "execution_count": 25
        }
      ]
    },
    {
      "cell_type": "code",
      "metadata": {
        "id": "3KnRZMjuITEr",
        "colab": {
          "base_uri": "https://localhost:8080/",
          "height": 35
        },
        "outputId": "b4af714d-0670-496a-bc73-daca093dea76"
      },
      "source": [
        "\"it's a \\\"sample\\\" text\""
      ],
      "execution_count": null,
      "outputs": [
        {
          "output_type": "execute_result",
          "data": {
            "application/vnd.google.colaboratory.intrinsic+json": {
              "type": "string"
            },
            "text/plain": [
              "'it\\'s a \"sample\" text'"
            ]
          },
          "metadata": {
            "tags": []
          },
          "execution_count": 26
        }
      ]
    },
    {
      "cell_type": "code",
      "metadata": {
        "id": "2kGdxVewIo28",
        "colab": {
          "base_uri": "https://localhost:8080/"
        },
        "outputId": "94a35620-ce9b-4424-ece8-e2d8003fc0af"
      },
      "source": [
        "#Boolean\r\n",
        "\r\n",
        "True"
      ],
      "execution_count": null,
      "outputs": [
        {
          "output_type": "execute_result",
          "data": {
            "text/plain": [
              "True"
            ]
          },
          "metadata": {
            "tags": []
          },
          "execution_count": 27
        }
      ]
    },
    {
      "cell_type": "code",
      "metadata": {
        "id": "r9rM1FGTIdt6",
        "colab": {
          "base_uri": "https://localhost:8080/"
        },
        "outputId": "932ef2ef-e886-4e96-b04a-fd6b2dda2297"
      },
      "source": [
        "False"
      ],
      "execution_count": null,
      "outputs": [
        {
          "output_type": "execute_result",
          "data": {
            "text/plain": [
              "False"
            ]
          },
          "metadata": {
            "tags": []
          },
          "execution_count": 28
        }
      ]
    },
    {
      "cell_type": "markdown",
      "metadata": {
        "id": "ZhFgBQcaRsxn"
      },
      "source": [
        "##type() function\r\n",
        "It is used to check the data type of an object in python"
      ]
    },
    {
      "cell_type": "code",
      "metadata": {
        "colab": {
          "base_uri": "https://localhost:8080/"
        },
        "id": "ZVIVRYlRR395",
        "outputId": "9e6a494f-373c-4fc8-c716-a1e8ae9f8e26"
      },
      "source": [
        "print(type(3))\r\n",
        "print(type(3.0))\r\n",
        "print(type('3'))\r\n",
        "print(type(3j))\r\n",
        "print(type(True))"
      ],
      "execution_count": null,
      "outputs": [
        {
          "output_type": "stream",
          "text": [
            "<class 'int'>\n",
            "<class 'float'>\n",
            "<class 'str'>\n",
            "<class 'complex'>\n",
            "<class 'bool'>\n"
          ],
          "name": "stdout"
        }
      ]
    },
    {
      "cell_type": "markdown",
      "metadata": {
        "id": "3C2-itNtCcb9"
      },
      "source": [
        "#Typcasting / Type Conversion\r\n",
        "\r\n",
        "In Python, we call it coercion.\r\n",
        "\r\n",
        "1. implicit tycasting\r\n",
        "2. explicit typecasting\r\n"
      ]
    },
    {
      "cell_type": "code",
      "metadata": {
        "colab": {
          "base_uri": "https://localhost:8080/"
        },
        "id": "bUWCRJW6JWLK",
        "outputId": "d7536f59-2d57-48d0-cb14-22ac7c20b9f3"
      },
      "source": [
        "print(type(3 + 4.0))\r\n",
        "print(type(3 * 4.0))\r\n",
        "\r\n",
        "# print(type(3 + '46')) #TypeError: unsupported operand type(s) for +: 'int' and 'str'\r\n",
        "print(type(3 + int('46')))"
      ],
      "execution_count": null,
      "outputs": [
        {
          "output_type": "stream",
          "text": [
            "<class 'float'>\n",
            "<class 'float'>\n",
            "<class 'int'>\n"
          ],
          "name": "stdout"
        }
      ]
    },
    {
      "cell_type": "code",
      "metadata": {
        "id": "svwewKq8I5Li",
        "colab": {
          "base_uri": "https://localhost:8080/"
        },
        "outputId": "8963e6d5-d631-48c7-efe3-a6e8c500682d"
      },
      "source": [
        "print(type(3))\r\n",
        "print(type(3.0))\r\n",
        "print(type('3'))"
      ],
      "execution_count": null,
      "outputs": [
        {
          "output_type": "stream",
          "text": [
            "<class 'int'>\n",
            "<class 'float'>\n",
            "<class 'str'>\n"
          ],
          "name": "stdout"
        }
      ]
    },
    {
      "cell_type": "code",
      "metadata": {
        "colab": {
          "base_uri": "https://localhost:8080/"
        },
        "id": "lRU9iWPFCr3e",
        "outputId": "47bded60-ef6a-4c82-8b82-b030a41632eb"
      },
      "source": [
        "type(str(3))"
      ],
      "execution_count": null,
      "outputs": [
        {
          "output_type": "execute_result",
          "data": {
            "text/plain": [
              "str"
            ]
          },
          "metadata": {
            "tags": []
          },
          "execution_count": 3
        }
      ]
    },
    {
      "cell_type": "code",
      "metadata": {
        "colab": {
          "base_uri": "https://localhost:8080/"
        },
        "id": "4E7h7sDKCxv3",
        "outputId": "e117d0da-2f94-4e1d-e8b9-e5f1558310a6"
      },
      "source": [
        "type(str(3.0))"
      ],
      "execution_count": null,
      "outputs": [
        {
          "output_type": "execute_result",
          "data": {
            "text/plain": [
              "str"
            ]
          },
          "metadata": {
            "tags": []
          },
          "execution_count": 4
        }
      ]
    },
    {
      "cell_type": "code",
      "metadata": {
        "colab": {
          "base_uri": "https://localhost:8080/"
        },
        "id": "kj_JrPDsCzPJ",
        "outputId": "aadd4834-3f47-4364-991f-802a6b6338e7"
      },
      "source": [
        "print(type(int(3)))\r\n",
        "print(type(int('3')))\r\n",
        "int('3')"
      ],
      "execution_count": null,
      "outputs": [
        {
          "output_type": "stream",
          "text": [
            "<class 'int'>\n",
            "<class 'int'>\n"
          ],
          "name": "stdout"
        },
        {
          "output_type": "execute_result",
          "data": {
            "text/plain": [
              "3"
            ]
          },
          "metadata": {
            "tags": []
          },
          "execution_count": 9
        }
      ]
    },
    {
      "cell_type": "code",
      "metadata": {
        "colab": {
          "base_uri": "https://localhost:8080/"
        },
        "id": "w94kiIUzETz-",
        "outputId": "282a10d3-eb31-4f23-e146-da4ebbef7ee9"
      },
      "source": [
        "#Truncation not rounding up\r\n",
        "\r\n",
        "print(int(3.8))\r\n",
        "print(int(3.0))\r\n",
        "print(int(-3.2))\r\n",
        "print(int(-3.9))\r\n",
        "\r\n",
        "# print(int(\"text\"))"
      ],
      "execution_count": null,
      "outputs": [
        {
          "output_type": "stream",
          "text": [
            "3\n",
            "3\n",
            "-3\n",
            "-3\n"
          ],
          "name": "stdout"
        }
      ]
    },
    {
      "cell_type": "code",
      "metadata": {
        "colab": {
          "base_uri": "https://localhost:8080/"
        },
        "id": "LHRJ-YkiC2B3",
        "outputId": "0256bac1-51e9-4e45-fb6c-cb18e82dd494"
      },
      "source": [
        "print(type(float(3)))\r\n",
        "print(type(float('3')))\r\n",
        "print(float(3))\r\n",
        "print(float('3'))\r\n",
        "print(float('-4.32'))"
      ],
      "execution_count": null,
      "outputs": [
        {
          "output_type": "stream",
          "text": [
            "<class 'float'>\n",
            "<class 'float'>\n",
            "3.0\n",
            "3.0\n",
            "-4.32\n"
          ],
          "name": "stdout"
        }
      ]
    },
    {
      "cell_type": "code",
      "metadata": {
        "id": "Qx3DVhdTcZIe"
      },
      "source": [
        "int(float('4.9'))"
      ],
      "execution_count": null,
      "outputs": []
    },
    {
      "cell_type": "code",
      "metadata": {
        "colab": {
          "base_uri": "https://localhost:8080/"
        },
        "id": "QQ3uWv5OC96e",
        "outputId": "d1f78d54-8b87-4711-f12e-67c3fad2be1f"
      },
      "source": [
        "print(type(complex(3)))\r\n",
        "print(type(complex('3')))\r\n",
        "print(complex(3))\r\n",
        "print(complex('3'))"
      ],
      "execution_count": null,
      "outputs": [
        {
          "output_type": "stream",
          "text": [
            "<class 'complex'>\n",
            "<class 'complex'>\n",
            "(3+0j)\n",
            "(3+0j)\n"
          ],
          "name": "stdout"
        }
      ]
    },
    {
      "cell_type": "code",
      "metadata": {
        "colab": {
          "base_uri": "https://localhost:8080/"
        },
        "id": "4-hGfNiSDih2",
        "outputId": "f3042c1f-6f43-4e65-bf39-9ef35726d259"
      },
      "source": [
        "print(type(bool(3)))\r\n",
        "print(type(bool('3')))\r\n",
        "print(bool(3))\r\n",
        "print(bool('3'))"
      ],
      "execution_count": null,
      "outputs": [
        {
          "output_type": "stream",
          "text": [
            "<class 'bool'>\n",
            "<class 'bool'>\n",
            "True\n",
            "True\n"
          ],
          "name": "stdout"
        }
      ]
    },
    {
      "cell_type": "code",
      "metadata": {
        "colab": {
          "base_uri": "https://localhost:8080/"
        },
        "id": "wfXJDrhGDpKo",
        "outputId": "42265fba-65c7-490d-f021-82226448ef5f"
      },
      "source": [
        "print(bool(0))\r\n",
        "print(bool('0'))\r\n",
        "print(bool(-1))\r\n",
        "print(bool('-1'))\r\n",
        "print(bool(\"\"))"
      ],
      "execution_count": null,
      "outputs": [
        {
          "output_type": "stream",
          "text": [
            "False\n",
            "True\n",
            "True\n",
            "True\n"
          ],
          "name": "stdout"
        }
      ]
    },
    {
      "cell_type": "markdown",
      "metadata": {
        "id": "dq_2FgUKHL-W"
      },
      "source": [
        "When we typcast to bool:\r\n",
        "- Almost any value is evaluated to True if it has some sort of content.\r\n",
        "\r\n",
        "- Any string is True, except empty strings.\r\n",
        "\r\n",
        "- Any number is True, except 0.\r\n",
        "\r\n",
        "- Any list, tuple, set, and dictionary are True, except empty ones."
      ]
    },
    {
      "cell_type": "code",
      "metadata": {
        "colab": {
          "base_uri": "https://localhost:8080/"
        },
        "id": "LJxUckyuHCG-",
        "outputId": "8013420e-36af-4318-b846-543611309d5f"
      },
      "source": [
        "bool(False)\r\n",
        "bool(None)\r\n",
        "bool(0)\r\n",
        "bool(\"\")\r\n",
        "bool(())\r\n",
        "bool([])\r\n",
        "bool({})\r\n"
      ],
      "execution_count": null,
      "outputs": [
        {
          "output_type": "execute_result",
          "data": {
            "text/plain": [
              "False"
            ]
          },
          "metadata": {
            "tags": []
          },
          "execution_count": 26
        }
      ]
    },
    {
      "cell_type": "markdown",
      "metadata": {
        "id": "ZdImKSKgHseg"
      },
      "source": [
        "##isinstance() function \r\n",
        "It can be used to check if an object is of a certain data type"
      ]
    },
    {
      "cell_type": "code",
      "metadata": {
        "colab": {
          "base_uri": "https://localhost:8080/"
        },
        "id": "osOFAzcFHChw",
        "outputId": "7cb895ce-ff78-4b7d-8a7f-e4a2ff8b0400"
      },
      "source": [
        "x = 10\r\n",
        "print(isinstance(x, float))"
      ],
      "execution_count": 3,
      "outputs": [
        {
          "output_type": "stream",
          "text": [
            "False\n"
          ],
          "name": "stdout"
        }
      ]
    },
    {
      "cell_type": "code",
      "metadata": {
        "colab": {
          "base_uri": "https://localhost:8080/"
        },
        "id": "Nw9FTlNOH7Xj",
        "outputId": "2e19fdd0-ce03-4dd3-bd19-ead7f6b799b6"
      },
      "source": [
        "x = 10.0\r\n",
        "print(isinstance(x, int))"
      ],
      "execution_count": null,
      "outputs": [
        {
          "output_type": "stream",
          "text": [
            "False\n"
          ],
          "name": "stdout"
        }
      ]
    },
    {
      "cell_type": "markdown",
      "metadata": {
        "id": "daQAHvZmclKl"
      },
      "source": [
        "#Note: Python is dynamically typed language unlike C/C++ which are statically typed language"
      ]
    }
  ]
}