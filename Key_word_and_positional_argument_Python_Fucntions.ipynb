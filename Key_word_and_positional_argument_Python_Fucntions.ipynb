{
  "nbformat": 4,
  "nbformat_minor": 0,
  "metadata": {
    "colab": {
      "name": "Key word and positional argument Python Fucntions.ipynb",
      "provenance": [],
      "collapsed_sections": [],
      "authorship_tag": "ABX9TyP4ME3s93qgCGx7Qv2Ah5yq",
      "include_colab_link": true
    },
    "kernelspec": {
      "name": "python3",
      "display_name": "Python 3"
    }
  },
  "cells": [
    {
      "cell_type": "markdown",
      "metadata": {
        "id": "view-in-github",
        "colab_type": "text"
      },
      "source": [
        "<a href=\"https://colab.research.google.com/github/arora123/Python-Basics-Tutorials/blob/main/Key_word_and_positional_argument_Python_Fucntions.ipynb\" target=\"_parent\"><img src=\"https://colab.research.google.com/assets/colab-badge.svg\" alt=\"Open In Colab\"/></a>"
      ]
    },
    {
      "cell_type": "markdown",
      "metadata": {
        "id": "15P0yHJYrRYp"
      },
      "source": [
        "<center><h1><font size=\"+3\">Learn Python Basics</font></h1></center>"
      ]
    },
    {
      "cell_type": "markdown",
      "metadata": {
        "id": "5Qk1SmwQQvFR"
      },
      "source": [
        "#Positional & Keyword arguments\r\n",
        "\r\n",
        "1. Positional arguments are declared by name only & Key word arguments are declared by key-value pair (name & corresponding value) \r\n",
        "2. Keyword arguments should be written after positional arguments\r\n",
        "3. *args represnts positional and \r\n",
        "**kwargs represents keyword arguments\r\n",
        "4. args and kwargs are just conventional names. You can choose any name that you prefer\r\n",
        "5. By default python takes all arguments as positional arguments\r\n",
        "6. It is possible to use the *args and named variables together\r\n",
        "7. **Why do we need these?**\r\n",
        "  - *args and **kwargs are mostly used in function definitions. \r\n",
        "  - *args and **kwargs allow you to pass an unspecified number of arguments to a function, so when writing the function definition, you do not need to know how many arguments will be passed to your function."
      ]
    },
    {
      "cell_type": "code",
      "metadata": {
        "id": "eRpfIXYJgdOi"
      },
      "source": [
        "def func1(b, a=3):\r\n",
        "  return a + b \r\n",
        "\r\n",
        "func1(7, 5)  "
      ],
      "execution_count": null,
      "outputs": []
    },
    {
      "cell_type": "code",
      "metadata": {
        "id": "kV5wAc7AQpgD"
      },
      "source": [
        "#This function will throw an error\r\n",
        "def func1(a =3, b):\r\n",
        "  return a + b "
      ],
      "execution_count": null,
      "outputs": []
    },
    {
      "cell_type": "code",
      "metadata": {
        "id": "-JYo0RM0RnA1"
      },
      "source": [
        "def func1(b, a = 3, c):\r\n",
        "  return a + b + c\r\n",
        "\r\n",
        "print(func1(5))\r\n",
        "print(func1(5, 6))"
      ],
      "execution_count": null,
      "outputs": []
    },
    {
      "cell_type": "code",
      "metadata": {
        "id": "4KZBjrzuR3Ga"
      },
      "source": [
        "def func2(*args, **kwargs):\r\n",
        "  print(\"positional arguments are: \", args)\r\n",
        "  print(\"keyword arguments are: \", kwargs)\r\n",
        "  \r\n",
        "\r\n",
        "func2(32, 56,34, 'hi',  c= 23, d=12, e = 67)"
      ],
      "execution_count": null,
      "outputs": []
    },
    {
      "cell_type": "code",
      "metadata": {
        "id": "OhqSXMhRSWVV"
      },
      "source": [
        "# By default python takes all arguments as positional arguments\r\n",
        "\r\n",
        "ls = [1,2,3,4,5]\r\n",
        "dict = {'a':10, 'b':20}\r\n",
        "\r\n",
        "# func2(ls, dict) #output is a tuple\r\n",
        "# func2(ls)\r\n",
        "# func2(dict)"
      ],
      "execution_count": null,
      "outputs": []
    },
    {
      "cell_type": "code",
      "metadata": {
        "id": "ZAXB7YwvUasI"
      },
      "source": [
        "# To specify positional or keyword argument, you need to use * or ** prefix\r\n",
        "func2(*ls, **dict) #output is a tuple after unpacking the list"
      ],
      "execution_count": null,
      "outputs": []
    },
    {
      "cell_type": "code",
      "metadata": {
        "id": "IwZIBnhBYeXS"
      },
      "source": [
        "ls = [1,2,3,4,5]\r\n",
        "tpl = (10, 20, 30)\r\n",
        "\r\n",
        "# func2(*ls, *tpl)?\r\n",
        "func2(12, 23, *ls, *tpl)"
      ],
      "execution_count": null,
      "outputs": []
    },
    {
      "cell_type": "code",
      "metadata": {
        "id": "Wals9HrtYwHZ"
      },
      "source": [
        "dict = {'a':10, 'b':20}\r\n",
        "dict1 = {'Name': \"Nisha\", \"topic\": \"Python\", \"vedios\": 20}\r\n",
        "\r\n",
        "# func2(**dict, **dict1)\r\n",
        "func2(exp=11, **dict, **dict1)"
      ],
      "execution_count": null,
      "outputs": []
    },
    {
      "cell_type": "markdown",
      "metadata": {
        "id": "hlJwNU2aVSHV"
      },
      "source": [
        "## when using *args becomes useful"
      ]
    },
    {
      "cell_type": "code",
      "metadata": {
        "id": "K8ISFCiZU-Qt"
      },
      "source": [
        "# This function can only add two numbers\r\n",
        "# def func1(a, b):\r\n",
        "#   return a + b \r\n",
        "\r\n",
        "# To be able to add numbers without having a restriction on number of inputs,\r\n",
        "# we can use *args\r\n",
        "\r\n",
        "def add_num(*args):\r\n",
        "  result = 0\r\n",
        "  for i in args:\r\n",
        "    result += i\r\n",
        "  return result\r\n",
        "    "
      ],
      "execution_count": null,
      "outputs": []
    },
    {
      "cell_type": "code",
      "metadata": {
        "id": "w_lJvSXyV-Cg"
      },
      "source": [
        "# print(add_num())\r\n",
        "# print(add_num(1,2))\r\n",
        "print(add_num(1,2,3,4,5,6,7,8,9,10))"
      ],
      "execution_count": null,
      "outputs": []
    },
    {
      "cell_type": "code",
      "metadata": {
        "id": "lw2D--hBWOpO"
      },
      "source": [
        "#It is possible to use the *args and named variables together\r\n",
        "\r\n",
        "def func3(a, b, *args):\r\n",
        "  print(\"sum of first 2 numbers is: \", a + b)\r\n",
        "  result = 0\r\n",
        "  for i in args:\r\n",
        "    result += i\r\n",
        "  print(\"sum of all numbers is: \", a + b + result) \r\n",
        "\r\n",
        "func3(2, 3, 4)\r\n"
      ],
      "execution_count": null,
      "outputs": []
    },
    {
      "cell_type": "code",
      "metadata": {
        "id": "UoFca7DEXDAo"
      },
      "source": [
        "func3(2, 3, 4, 10)"
      ],
      "execution_count": null,
      "outputs": []
    },
    {
      "cell_type": "markdown",
      "metadata": {
        "id": "yUcPnGtkaaYL"
      },
      "source": [
        "## Unpacking With the Asterisk Operators: * & **"
      ]
    },
    {
      "cell_type": "code",
      "metadata": {
        "id": "tysAFv_wXiuK"
      },
      "source": [
        "# Unpacking iterables such as list, set, tuple, range() function with *\r\n",
        "ls1 = [1,2,3,4]\r\n",
        "print(ls1)"
      ],
      "execution_count": null,
      "outputs": []
    },
    {
      "cell_type": "code",
      "metadata": {
        "id": "O8FL6Zp-Z5vU"
      },
      "source": [
        "print(*ls1)"
      ],
      "execution_count": null,
      "outputs": []
    },
    {
      "cell_type": "code",
      "metadata": {
        "id": "SPTsHwnAbidR"
      },
      "source": [
        "ls5 = range(18)\r\n",
        "print(*ls5)"
      ],
      "execution_count": null,
      "outputs": []
    },
    {
      "cell_type": "code",
      "metadata": {
        "id": "s_Xwh9I_cjUg"
      },
      "source": [
        "ls6 = \"python\"\r\n",
        "print(*ls6)"
      ],
      "execution_count": null,
      "outputs": []
    },
    {
      "cell_type": "code",
      "metadata": {
        "id": "AKNbJQ2CaCnk"
      },
      "source": [
        "#unpack & merge\r\n",
        "ls1 = [1,2,3,4]\r\n",
        "ls2 = [10, 20, 30]\r\n",
        "ls3 = (11, 22, 33) # works for tuple too\r\n",
        "ls4 = {23, 34} # works with sets too\r\n",
        "ls5 = range(18) # works with range too\r\n",
        "\r\n",
        "print(*ls1, *ls2)\r\n",
        "print(*ls1, *ls2, *ls3)\r\n",
        "print(*ls1, *ls2, *ls3, *ls4)\r\n",
        "print(*ls1, *ls2, *ls3, *ls4, *ls5)\r\n",
        "\r\n",
        "print(*ls1, *ls2, *ls3, *ls4, *ls5, *ls6)"
      ],
      "execution_count": null,
      "outputs": []
    },
    {
      "cell_type": "code",
      "metadata": {
        "colab": {
          "base_uri": "https://localhost:8080/"
        },
        "id": "MrwvbbsAdDJm",
        "outputId": "3837052e-6c94-4218-cefe-03cd314a8673"
      },
      "source": [
        "#packing again\r\n",
        "\r\n",
        "name = \"Nisha\"\r\n",
        "print(*name)\r\n",
        "\r\n",
        "# Putting characters of a string in a list\r\n",
        "list_name = [*name]\r\n",
        "list_name\r\n"
      ],
      "execution_count": 115,
      "outputs": [
        {
          "output_type": "stream",
          "text": [
            "N i s h a\n"
          ],
          "name": "stdout"
        },
        {
          "output_type": "execute_result",
          "data": {
            "text/plain": [
              "['N', 'i', 's', 'h', 'a']"
            ]
          },
          "metadata": {
            "tags": []
          },
          "execution_count": 115
        }
      ]
    },
    {
      "cell_type": "code",
      "metadata": {
        "colab": {
          "base_uri": "https://localhost:8080/"
        },
        "id": "mEqfRur3duZJ",
        "outputId": "514ab794-2da2-427b-9ec9-75a444922807"
      },
      "source": [
        "*list_name1, = \"Nisha\"\r\n",
        "\r\n",
        "print(list_name1)"
      ],
      "execution_count": 116,
      "outputs": [
        {
          "output_type": "stream",
          "text": [
            "['N', 'i', 's', 'h', 'a']\n"
          ],
          "name": "stdout"
        }
      ]
    },
    {
      "cell_type": "code",
      "metadata": {
        "id": "PEYU3Byww7l4"
      },
      "source": [
        "x = range(6)\r\n",
        "print(*x)\r\n",
        "\r\n",
        "y = [*x]\r\n",
        "print(y)"
      ],
      "execution_count": null,
      "outputs": []
    },
    {
      "cell_type": "code",
      "metadata": {
        "id": "sqhF_PGfamrL"
      },
      "source": [
        "# unpacking dictionaries with **\r\n",
        "\r\n",
        "dict1 = {'x' : 10, 'y': 20}\r\n",
        "dict2 = {\"z\": 3, \"t\": 4}"
      ],
      "execution_count": null,
      "outputs": []
    },
    {
      "cell_type": "code",
      "metadata": {
        "colab": {
          "base_uri": "https://localhost:8080/",
          "height": 228
        },
        "id": "8jdud4-vcE7-",
        "outputId": "689a0e1a-bea0-40a2-bffe-a21e38e9af50"
      },
      "source": [
        "#This code will throw an error\r\n",
        "print(**dict1, **dict2)\r\n",
        "\r\n",
        "# When you trying to pass arguments like this **args to print() this arguments will be unpacked \r\n",
        "# as keyword arguments, and this will raise the error, \r\n",
        "# since print() doesn't expect such arguments as mutate() method has. So you need to remove **args:\r\n",
        "# https://stackoverflow.com/a/52612348/5114585\r\n"
      ],
      "execution_count": 124,
      "outputs": [
        {
          "output_type": "error",
          "ename": "TypeError",
          "evalue": "ignored",
          "traceback": [
            "\u001b[0;31m---------------------------------------------------------------------------\u001b[0m",
            "\u001b[0;31mTypeError\u001b[0m                                 Traceback (most recent call last)",
            "\u001b[0;32m<ipython-input-124-6aa14d823426>\u001b[0m in \u001b[0;36m<module>\u001b[0;34m()\u001b[0m\n\u001b[1;32m      1\u001b[0m \u001b[0;31m#This code will throw an error\u001b[0m\u001b[0;34m\u001b[0m\u001b[0;34m\u001b[0m\u001b[0;34m\u001b[0m\u001b[0m\n\u001b[0;32m----> 2\u001b[0;31m \u001b[0mprint\u001b[0m\u001b[0;34m(\u001b[0m\u001b[0;34m**\u001b[0m\u001b[0mdict1\u001b[0m\u001b[0;34m,\u001b[0m \u001b[0;34m**\u001b[0m\u001b[0mdict2\u001b[0m\u001b[0;34m)\u001b[0m\u001b[0;34m\u001b[0m\u001b[0;34m\u001b[0m\u001b[0m\n\u001b[0m\u001b[1;32m      3\u001b[0m \u001b[0;34m\u001b[0m\u001b[0m\n\u001b[1;32m      4\u001b[0m \u001b[0;31m# When you trying to pass arguments like this **args to print() this arguments will be unpacked\u001b[0m\u001b[0;34m\u001b[0m\u001b[0;34m\u001b[0m\u001b[0;34m\u001b[0m\u001b[0m\n\u001b[1;32m      5\u001b[0m \u001b[0;31m# as keyword arguments, and this will raise the error,\u001b[0m\u001b[0;34m\u001b[0m\u001b[0;34m\u001b[0m\u001b[0;34m\u001b[0m\u001b[0m\n",
            "\u001b[0;31mTypeError\u001b[0m: 'a' is an invalid keyword argument for this function"
          ]
        }
      ]
    },
    {
      "cell_type": "code",
      "metadata": {
        "id": "RdU5IrTutWLK"
      },
      "source": [
        "# We can do it like this\r\n",
        "new = {**dict1, **dict2}\r\n",
        "print(new)"
      ],
      "execution_count": null,
      "outputs": []
    }
  ]
}