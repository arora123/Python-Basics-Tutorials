{
  "nbformat": 4,
  "nbformat_minor": 0,
  "metadata": {
    "colab": {
      "name": "3. Variables & Constants in Python",
      "provenance": [],
      "collapsed_sections": [],
      "include_colab_link": true
    },
    "kernelspec": {
      "display_name": "Python 3",
      "name": "python3"
    }
  },
  "cells": [
    {
      "cell_type": "markdown",
      "metadata": {
        "id": "view-in-github",
        "colab_type": "text"
      },
      "source": [
        "<a href=\"https://colab.research.google.com/github/arora123/Python-Basics-Tutorials/blob/main/3_Variables_%26_Constants_in_Python.ipynb\" target=\"_parent\"><img src=\"https://colab.research.google.com/assets/colab-badge.svg\" alt=\"Open In Colab\"/></a>"
      ]
    },
    {
      "cell_type": "markdown",
      "metadata": {
        "id": "vFAiUhRgdcx6"
      },
      "source": [
        "# Variables & Constants in Python\r\n",
        "\r\n",
        "\r\n",
        "- variable\r\n",
        "- naming convention\r\n",
        "- print\r\n",
        "- multiple variables assign\r\n",
        "- reassign variables\r\n",
        "- deleting variables del x\r\n",
        "- local and global variables_function\r\n",
        "\r\n",
        "- constant\r\n",
        "\r\n",
        "**Python is a dynamically typed language**\r\n"
      ]
    },
    {
      "cell_type": "code",
      "metadata": {
        "id": "a-U370ENdbBO",
        "colab": {
          "base_uri": "https://localhost:8080/"
        },
        "outputId": "d4b28944-ecc7-4dee-beac-bcc0830c2cf4"
      },
      "source": [
        "x  = 5\r\n",
        "print(x)"
      ],
      "execution_count": null,
      "outputs": [
        {
          "output_type": "stream",
          "text": [
            "5\n"
          ],
          "name": "stdout"
        }
      ]
    },
    {
      "cell_type": "code",
      "metadata": {
        "id": "4oyvpu0-dj4O",
        "colab": {
          "base_uri": "https://localhost:8080/"
        },
        "outputId": "b6dc892d-46b8-4c13-b5a9-97564382a4cb"
      },
      "source": [
        "#reassign value\r\n",
        "\r\n",
        "x = 10\r\n",
        "x"
      ],
      "execution_count": null,
      "outputs": [
        {
          "output_type": "execute_result",
          "data": {
            "text/plain": [
              "10"
            ]
          },
          "metadata": {
            "tags": []
          },
          "execution_count": 71
        }
      ]
    },
    {
      "cell_type": "code",
      "metadata": {
        "id": "Nd_3S0gOfVTT",
        "colab": {
          "base_uri": "https://localhost:8080/"
        },
        "outputId": "d99f23a9-9c47-4116-901f-59497ab6db5f"
      },
      "source": [
        "x + 20"
      ],
      "execution_count": null,
      "outputs": [
        {
          "output_type": "execute_result",
          "data": {
            "text/plain": [
              "30"
            ]
          },
          "metadata": {
            "tags": []
          },
          "execution_count": 72
        }
      ]
    },
    {
      "cell_type": "code",
      "metadata": {
        "id": "RajjjDvSfi0m",
        "colab": {
          "base_uri": "https://localhost:8080/"
        },
        "outputId": "48af6d0f-a66c-4f61-fb41-dd915afcd4b4"
      },
      "source": [
        "x = 10\r\n",
        "y = 20\r\n",
        "\r\n",
        "print(x)\r\n",
        "print(y)"
      ],
      "execution_count": null,
      "outputs": [
        {
          "output_type": "stream",
          "text": [
            "10\n",
            "20\n"
          ],
          "name": "stdout"
        }
      ]
    },
    {
      "cell_type": "code",
      "metadata": {
        "id": "pqbmADMMfn1T",
        "colab": {
          "base_uri": "https://localhost:8080/"
        },
        "outputId": "3255f67a-4b7d-4e58-8e79-f639f199b8d8"
      },
      "source": [
        "x * y"
      ],
      "execution_count": null,
      "outputs": [
        {
          "output_type": "execute_result",
          "data": {
            "text/plain": [
              "200"
            ]
          },
          "metadata": {
            "tags": []
          },
          "execution_count": 77
        }
      ]
    },
    {
      "cell_type": "code",
      "metadata": {
        "id": "TTKvgGg1f6Af"
      },
      "source": [
        "age = 20\r\n",
        "exp = 2\r\n",
        "salary = 20000"
      ],
      "execution_count": null,
      "outputs": []
    },
    {
      "cell_type": "code",
      "metadata": {
        "id": "_3c7Y-qRgPUB",
        "colab": {
          "base_uri": "https://localhost:8080/"
        },
        "outputId": "a8b60683-51ba-4e43-9ec2-4e6bc59eaa18"
      },
      "source": [
        "print(age)"
      ],
      "execution_count": null,
      "outputs": [
        {
          "output_type": "stream",
          "text": [
            "20\n"
          ],
          "name": "stdout"
        }
      ]
    },
    {
      "cell_type": "code",
      "metadata": {
        "id": "NwTZhiESgRAd",
        "colab": {
          "base_uri": "https://localhost:8080/"
        },
        "outputId": "0440d559-3f0c-4f81-c118-07480e04199e"
      },
      "source": [
        "exp_python =3\r\n",
        "exp_python"
      ],
      "execution_count": null,
      "outputs": [
        {
          "output_type": "execute_result",
          "data": {
            "text/plain": [
              "3"
            ]
          },
          "metadata": {
            "tags": []
          },
          "execution_count": 82
        }
      ]
    },
    {
      "cell_type": "markdown",
      "metadata": {
        "id": "lKcT0jpWgmDj"
      },
      "source": [
        "1. variables names can have letters or numers or underscore\r\n",
        "2. variables name should not start with a number\r\n",
        "3. case sensitive"
      ]
    },
    {
      "cell_type": "code",
      "metadata": {
        "id": "pqdLWhjIgeGW"
      },
      "source": [
        "_test = 4\r\n",
        "_TEST = 3"
      ],
      "execution_count": null,
      "outputs": []
    },
    {
      "cell_type": "code",
      "metadata": {
        "id": "_vVel0x7g5yF",
        "colab": {
          "base_uri": "https://localhost:8080/"
        },
        "outputId": "4359c0a8-01db-4655-bdba-6aa3490b51ab"
      },
      "source": [
        "print(_test)\r\n",
        "print(_TEST)"
      ],
      "execution_count": null,
      "outputs": [
        {
          "output_type": "stream",
          "text": [
            "4\n",
            "3\n"
          ],
          "name": "stdout"
        }
      ]
    },
    {
      "cell_type": "code",
      "metadata": {
        "id": "ccZcj2CdhBiB"
      },
      "source": [
        "unit_price = 20"
      ],
      "execution_count": null,
      "outputs": []
    },
    {
      "cell_type": "code",
      "metadata": {
        "id": "ggYk4qb8hLNy"
      },
      "source": [
        "unitPrice = 20"
      ],
      "execution_count": null,
      "outputs": []
    },
    {
      "cell_type": "code",
      "metadata": {
        "id": "rNLeOkORhSso",
        "colab": {
          "base_uri": "https://localhost:8080/",
          "height": 128
        },
        "outputId": "f799049e-d618-4c56-c77f-b890b49cb4d8"
      },
      "source": [
        "# This code will throw an error\r\n",
        "\r\n",
        "x = 5, y = 10"
      ],
      "execution_count": null,
      "outputs": [
        {
          "output_type": "error",
          "ename": "SyntaxError",
          "evalue": "ignored",
          "traceback": [
            "\u001b[0;36m  File \u001b[0;32m\"<ipython-input-89-75b1a6ebdb9d>\"\u001b[0;36m, line \u001b[0;32m1\u001b[0m\n\u001b[0;31m    x = 5, y = 10\u001b[0m\n\u001b[0m       ^\u001b[0m\n\u001b[0;31mSyntaxError\u001b[0m\u001b[0;31m:\u001b[0m can't assign to literal\n"
          ]
        }
      ]
    },
    {
      "cell_type": "code",
      "metadata": {
        "id": "MT8re4Gphc-l"
      },
      "source": [
        "x , y = 5, 10"
      ],
      "execution_count": null,
      "outputs": []
    },
    {
      "cell_type": "code",
      "metadata": {
        "id": "f0vy6PBWhjjR",
        "colab": {
          "base_uri": "https://localhost:8080/"
        },
        "outputId": "cac95b72-059b-4046-94b3-9143c634ad41"
      },
      "source": [
        "print(x)\r\n",
        "print(y)"
      ],
      "execution_count": null,
      "outputs": [
        {
          "output_type": "stream",
          "text": [
            "5\n",
            "10\n"
          ],
          "name": "stdout"
        }
      ]
    },
    {
      "cell_type": "code",
      "metadata": {
        "id": "H1qGKNUxhl8N",
        "colab": {
          "base_uri": "https://localhost:8080/"
        },
        "outputId": "34a82391-ae6f-4ae0-c632-9829a01062ee"
      },
      "source": [
        "print(x, y)"
      ],
      "execution_count": null,
      "outputs": [
        {
          "output_type": "stream",
          "text": [
            "5 10\n"
          ],
          "name": "stdout"
        }
      ]
    },
    {
      "cell_type": "code",
      "metadata": {
        "id": "PQzPHJVqhyUz"
      },
      "source": [
        "del x"
      ],
      "execution_count": null,
      "outputs": []
    },
    {
      "cell_type": "code",
      "metadata": {
        "id": "SattXZV1iEc8",
        "colab": {
          "base_uri": "https://localhost:8080/",
          "height": 161
        },
        "outputId": "001de3fe-0ac6-46f4-c796-91171e1d22ed"
      },
      "source": [
        "# Now, if you try to print x, you'll get an error\r\n",
        "\r\n",
        "print(x)"
      ],
      "execution_count": null,
      "outputs": [
        {
          "output_type": "error",
          "ename": "NameError",
          "evalue": "ignored",
          "traceback": [
            "\u001b[0;31m---------------------------------------------------------------------------\u001b[0m",
            "\u001b[0;31mNameError\u001b[0m                                 Traceback (most recent call last)",
            "\u001b[0;32m<ipython-input-94-fc17d851ef81>\u001b[0m in \u001b[0;36m<module>\u001b[0;34m()\u001b[0m\n\u001b[0;32m----> 1\u001b[0;31m \u001b[0mprint\u001b[0m\u001b[0;34m(\u001b[0m\u001b[0mx\u001b[0m\u001b[0;34m)\u001b[0m\u001b[0;34m\u001b[0m\u001b[0;34m\u001b[0m\u001b[0m\n\u001b[0m",
            "\u001b[0;31mNameError\u001b[0m: name 'x' is not defined"
          ]
        }
      ]
    },
    {
      "cell_type": "code",
      "metadata": {
        "id": "fH6xB79iiFzj"
      },
      "source": [
        "x, y, z, t = 2, 3, 4, 5"
      ],
      "execution_count": null,
      "outputs": []
    },
    {
      "cell_type": "code",
      "metadata": {
        "id": "rZsD1syLiNFZ"
      },
      "source": [
        "del x, y"
      ],
      "execution_count": null,
      "outputs": []
    },
    {
      "cell_type": "code",
      "metadata": {
        "id": "iVBvcNMtiPUY",
        "colab": {
          "base_uri": "https://localhost:8080/"
        },
        "outputId": "0b59e6c5-7b89-48e3-e74c-0cb3e3948b7c"
      },
      "source": [
        "print(z, t)"
      ],
      "execution_count": null,
      "outputs": [
        {
          "output_type": "stream",
          "text": [
            "4 5\n"
          ],
          "name": "stdout"
        }
      ]
    },
    {
      "cell_type": "code",
      "metadata": {
        "id": "TfmUrApaiRxY"
      },
      "source": [
        "import constant"
      ],
      "execution_count": null,
      "outputs": []
    },
    {
      "cell_type": "code",
      "metadata": {
        "id": "ZYeE6cD2i1dP",
        "colab": {
          "base_uri": "https://localhost:8080/"
        },
        "outputId": "37735540-f1be-40a4-ba5a-fa1700db52aa"
      },
      "source": [
        "print(constant.PI)"
      ],
      "execution_count": null,
      "outputs": [
        {
          "output_type": "stream",
          "text": [
            "3.14\n"
          ],
          "name": "stdout"
        }
      ]
    }
  ]
}