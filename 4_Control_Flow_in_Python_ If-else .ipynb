{
  "nbformat": 4,
  "nbformat_minor": 0,
  "metadata": {
    "colab": {
      "name": "4. Control Flow in Python.ipynb",
      "provenance": [],
      "collapsed_sections": [],
      "authorship_tag": "ABX9TyOmNfVw+O2XLtSxxYAUEiAL",
      "include_colab_link": true
    },
    "kernelspec": {
      "name": "python3",
      "display_name": "Python 3"
    }
  },
  "cells": [
    {
      "cell_type": "markdown",
      "metadata": {
        "id": "view-in-github",
        "colab_type": "text"
      },
      "source": [
        "<a href=\"https://colab.research.google.com/github/arora123/Python-Basics-Tutorials/blob/main/4_Control_Flow_in_Python_%20If-else%20.ipynb\" target=\"_parent\"><img src=\"https://colab.research.google.com/assets/colab-badge.svg\" alt=\"Open In Colab\"/></a>"
      ]
    },
    {
      "cell_type": "markdown",
      "metadata": {
        "id": "24D8ygzYq5Xn"
      },
      "source": [
        "#Control Flow in Python\r\n",
        "\r\n",
        "A program's control flow is the order in which the program's code executes. \r\n",
        "\r\n",
        "- conditional statements\r\n",
        "- loops\r\n",
        "- function \r\n",
        "- exceptions "
      ]
    },
    {
      "cell_type": "markdown",
      "metadata": {
        "id": "_YwKtgwirofY"
      },
      "source": [
        "**Conditional Statements**\r\n",
        "\r\n",
        "1. if statement\r\n",
        "2. if..else statements\r\n",
        "3. nested if statements\r\n",
        "4. Short Hand if statement\r\n",
        "5. Short Hand if-else statement\r\n",
        "\r\n",
        "## if statement"
      ]
    },
    {
      "cell_type": "markdown",
      "metadata": {
        "id": "zmXfOydcuubx"
      },
      "source": [
        "## if statement\r\n",
        "\r\n",
        "if condition : \r\n",
        "  statement1\r\n",
        "statement2  "
      ]
    },
    {
      "cell_type": "code",
      "metadata": {
        "id": "mtQV9gx7rLDM"
      },
      "source": [
        "# if statement\r\n",
        "\r\n",
        "weather = 'hot'\r\n",
        "\r\n",
        "if weather == 'rainy' :\r\n",
        "  print(\"that's cool\")"
      ],
      "execution_count": null,
      "outputs": []
    },
    {
      "cell_type": "code",
      "metadata": {
        "colab": {
          "base_uri": "https://localhost:8080/"
        },
        "id": "P_qPRDAQtVTY",
        "outputId": "2ce7a2c7-e129-4de8-c255-f45521a783b1"
      },
      "source": [
        "weather = 'rainy'\r\n",
        "\r\n",
        "if weather == 'rainy' :\r\n",
        "  print(\"that's cool\")\r\n",
        "print(\"I'm enjoying it\")"
      ],
      "execution_count": null,
      "outputs": [
        {
          "output_type": "stream",
          "text": [
            "that's cool\n",
            "I'm enjoying it\n"
          ],
          "name": "stdout"
        }
      ]
    },
    {
      "cell_type": "code",
      "metadata": {
        "colab": {
          "base_uri": "https://localhost:8080/"
        },
        "id": "IWpkBVSyuWXG",
        "outputId": "09c14c5d-d2b0-4fa1-ce1b-cb991e33253f"
      },
      "source": [
        "x = 12\r\n",
        "\r\n",
        "if x > 10:\r\n",
        "  print('large number')\r\n",
        "\r\n",
        "print(\"it's an example\")  "
      ],
      "execution_count": null,
      "outputs": [
        {
          "output_type": "stream",
          "text": [
            "large number\n",
            "it's an example\n"
          ],
          "name": "stdout"
        }
      ]
    },
    {
      "cell_type": "markdown",
      "metadata": {
        "id": "mHMr4tnjwE3k"
      },
      "source": [
        "# if else statement\r\n",
        "\r\n",
        "\r\n",
        "```\r\n",
        "if condition:\r\n",
        "  statment1\r\n",
        "else:\r\n",
        "  statement2\r\n",
        "statement3\r\n",
        "```\r\n",
        "\r\n",
        " "
      ]
    },
    {
      "cell_type": "code",
      "metadata": {
        "colab": {
          "base_uri": "https://localhost:8080/"
        },
        "id": "Wnwb-GfewGUo",
        "outputId": "15543ea6-8ffa-4e01-c31a-3401783169c1"
      },
      "source": [
        "# if else\r\n",
        "\r\n",
        "x = 5\r\n",
        "\r\n",
        "if x < 10:\r\n",
        "  print ('less than 10')\r\n",
        "else:\r\n",
        "  print('not less than 10')  \r\n",
        "print('another example')  "
      ],
      "execution_count": null,
      "outputs": [
        {
          "output_type": "stream",
          "text": [
            "less than 10\n",
            "another example\n"
          ],
          "name": "stdout"
        }
      ]
    },
    {
      "cell_type": "code",
      "metadata": {
        "id": "3fIN-JfJo2Dy"
      },
      "source": [
        "# More Examples\r\n",
        "\r\n",
        "x= 15\r\n",
        "\r\n",
        "if x >10:\r\n",
        "    print(\"greater than 10\")\r\n",
        "else: \r\n",
        "    print(\"less than or equal to 10\")\r\n",
        "print(\"Done\")"
      ],
      "execution_count": null,
      "outputs": []
    },
    {
      "cell_type": "code",
      "metadata": {
        "id": "xwxS-atr96-h"
      },
      "source": [
        "# Conditions using logical/boolean operators\r\n",
        "x=15\r\n",
        "\r\n",
        "if (x<20 and x>10):\r\n",
        "    print(\"desired number\")\r\n",
        "else:\r\n",
        "    print(\"not a useful number\")\r\n",
        "    \r\n",
        "print(\"search done\")"
      ],
      "execution_count": null,
      "outputs": []
    },
    {
      "cell_type": "markdown",
      "metadata": {
        "id": "gsmUtFaN-GEa"
      },
      "source": [
        "## If elif else ... statements\r\n"
      ]
    },
    {
      "cell_type": "code",
      "metadata": {
        "colab": {
          "base_uri": "https://localhost:8080/"
        },
        "id": "hTJJPAbcwlrp",
        "outputId": "dd667851-284d-484f-b1a9-10838a7dcb1f"
      },
      "source": [
        "x = 10\r\n",
        "\r\n",
        "if x < 10:\r\n",
        "  print ('less than 10')\r\n",
        "elif x >10:\r\n",
        "  print('greater than 10')  \r\n",
        "else:\r\n",
        "  print('equal to 10')  \r\n",
        "# print('another example')  "
      ],
      "execution_count": null,
      "outputs": [
        {
          "output_type": "stream",
          "text": [
            "equal to 10\n"
          ],
          "name": "stdout"
        }
      ]
    },
    {
      "cell_type": "markdown",
      "metadata": {
        "id": "6e9r4CDb-aVb"
      },
      "source": [
        "## Nested if else statements\r\n",
        "\r\n",
        "We can have multiple steps/conditions nested in the ladder"
      ]
    },
    {
      "cell_type": "code",
      "metadata": {
        "colab": {
          "base_uri": "https://localhost:8080/"
        },
        "id": "S9sm_D0fyZTx",
        "outputId": "96496244-48a4-4b2f-9ae7-7b06620a488b"
      },
      "source": [
        "# Nested if else\r\n",
        "\r\n",
        "x = 0\r\n",
        "\r\n",
        "if x >= 3:\r\n",
        "  if x == 3:\r\n",
        "    print('x is equal to 3')\r\n",
        "  else:\r\n",
        "    print('x is greater than 3')  \r\n",
        "else:\r\n",
        "  print ('x is less than 3')  "
      ],
      "execution_count": null,
      "outputs": [
        {
          "output_type": "stream",
          "text": [
            "x is less than 3\n"
          ],
          "name": "stdout"
        }
      ]
    },
    {
      "cell_type": "markdown",
      "metadata": {
        "id": "asK1Ic9z-hJh"
      },
      "source": [
        "## Short hand notation for if statment"
      ]
    },
    {
      "cell_type": "code",
      "metadata": {
        "id": "5EvR_-Ct0Uvy"
      },
      "source": [
        "x = 3\r\n",
        "\r\n",
        "if x > 10: print(x) "
      ],
      "execution_count": null,
      "outputs": []
    },
    {
      "cell_type": "markdown",
      "metadata": {
        "id": "I2vR5-V3-l4B"
      },
      "source": [
        "## Short hand notation for if else notation\r\n",
        "\r\n",
        "I don't recommend it"
      ]
    },
    {
      "cell_type": "code",
      "metadata": {
        "colab": {
          "base_uri": "https://localhost:8080/"
        },
        "id": "NQIZs45U0e1u",
        "outputId": "10861eca-570d-4576-9c84-5a7e1ada5cf9"
      },
      "source": [
        "x = 3\r\n",
        "\r\n",
        "print(x) if x > 10 else print('new') "
      ],
      "execution_count": null,
      "outputs": [
        {
          "output_type": "stream",
          "text": [
            "new\n"
          ],
          "name": "stdout"
        }
      ]
    }
  ]
}